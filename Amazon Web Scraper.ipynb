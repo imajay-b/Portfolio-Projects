{
 "cells": [
  {
   "cell_type": "code",
   "execution_count": 1,
   "id": "4136e8f5-d94d-4a96-93a1-726f83aee68d",
   "metadata": {
    "tags": []
   },
   "outputs": [],
   "source": [
    "# import libraries \n",
    "\n",
    "from bs4 import BeautifulSoup\n",
    "import requests\n",
    "import time\n",
    "import datetime\n",
    "\n",
    "import smtplib"
   ]
  },
  {
   "cell_type": "code",
   "execution_count": 2,
   "id": "819a7131-a487-4710-99b4-6fc2bf39d8a6",
   "metadata": {
    "tags": []
   },
   "outputs": [
    {
     "name": "stdout",
     "output_type": "stream",
     "text": [
      "\n",
      "                     DUDEME How People Reacts for Bug | Programmer T Shirt | Coding T Shirt for Coders | Developer T Shirt | Round Neck Cotton T-Shirt | Geek Half Sleeve T Shirt for Men & Women\n",
      "                    \n",
      "\n",
      "                      3 ratings\n",
      "                     \n",
      "\n",
      "\n",
      "\n",
      "\n",
      "\n",
      "\n",
      "                        4.5\n",
      "                       \n",
      "\n",
      "\n",
      "                         4.5 out of 5 stars\n",
      "                        \n",
      "\n",
      "\n",
      "\n",
      "\n",
      "\n",
      "\n",
      "\n",
      "\n",
      "\n",
      "\n",
      "\n",
      "\n",
      "\n",
      "\n",
      "                      3 ratings\n",
      "                     \n",
      "\n",
      "\n",
      "\n",
      "\n",
      "\n",
      "\n",
      "\n",
      "\n",
      "\n",
      "                     -31%\n",
      "                    \n",
      "\n",
      "\n",
      "                      ₹549\n",
      "                     \n",
      "\n",
      "\n",
      "                       ₹\n",
      "                      \n",
      "\n",
      "                       549\n",
      "                      \n",
      "\n",
      "\n",
      "\n",
      "\n",
      "\n",
      "\n",
      "\n",
      "\n",
      "\n",
      "                       M.R.P.:\n",
      "                       \n",
      "\n",
      "                         ₹799\n",
      "                        \n",
      "\n",
      "                         ₹799\n",
      "                        \n",
      "\n",
      "\n",
      "\n",
      "\n",
      "\n",
      "\n",
      "\n",
      "\n",
      "\n",
      "\n"
     ]
    }
   ],
   "source": [
    "#connecting to website\n",
    "\n",
    "URL = 'https://www.amazon.in/DUDEME-People-Programmer-Developer-T-Shirt/dp/B08SKGNJVS/ref=sr_1_22_sspa?crid=2F2XYFCSRELG&keywords=computer+nerd+tshirt&qid=1704817451&sprefix=computer+ner%2Caps%2C230&sr=8-22-spons&sp_csd=d2lkZ2V0TmFtZT1zcF9tdGY&psc=1'\n",
    "\n",
    "headers = {\"User-Agent\": \"Mozilla/5.0 (Macintosh; Intel Mac OS X 10_15_7) AppleWebKit/605.1.15 (KHTML, like Gecko) Version/17.2.1 Safari/605.1.15\",\"Accept-Encoding\":\"gzip, deflate\", \"Accept\":\"text/html,application/xhtml+xml,application/xml;q=0.9,*/*;q=0.8\", \"DNT\":\"1\",\"Connection\":\"close\", \"Upgrade-Insecure-Requests\":\"1\"}\n",
    "\n",
    "page = requests.get(URL, headers=headers)\n",
    "\n",
    "soup1 = BeautifulSoup(page.content, \"html.parser\")\n",
    "\n",
    "soup2 = BeautifulSoup(soup1.prettify(), \"html.parser\")\n",
    "\n",
    "title = soup2.find(id='productTitle').get_text()\n",
    "\n",
    "review = soup2.find(id='acrCustomerReviewText').get_text()\n",
    "\n",
    "rating = soup2.find(id='averageCustomerReviews').get_text()\n",
    "\n",
    "price = soup2.find(id='corePriceDisplay_desktop_feature_div').get_text()\n",
    "\n",
    "\n",
    "\n",
    "print(title)\n",
    "print(review)\n",
    "print(rating)\n",
    "print(price)"
   ]
  },
  {
   "cell_type": "code",
   "execution_count": 3,
   "id": "0894d34c-df45-4d7b-8f04-bc2af06aa61a",
   "metadata": {
    "tags": []
   },
   "outputs": [
    {
     "name": "stdout",
     "output_type": "stream",
     "text": [
      "DUDEME How People Reacts for Bug | Programmer T Shirt | Coding T Shirt for Coders | Developer T Shirt | Round Neck Cotton T-Shirt | Geek Half Sleeve T Shirt for Men & Women\n",
      "31%\n",
      "                    \n",
      "\n",
      "\n",
      "                      ₹549\n",
      "                     \n",
      "\n",
      "\n",
      "                       ₹\n",
      "                      \n",
      "\n",
      "                       549\n",
      "                      \n",
      "\n",
      "\n",
      "\n",
      "\n",
      "\n",
      "\n",
      "\n",
      "\n",
      "\n",
      "                       M.R.P.:\n",
      "                       \n",
      "\n",
      "                         ₹799\n",
      "                        \n",
      "\n",
      "                         ₹799\n"
     ]
    }
   ],
   "source": [
    "price = price.strip()[1:]\n",
    "title = title.strip()\n",
    "\n",
    "print(title)\n",
    "print(price)"
   ]
  },
  {
   "cell_type": "code",
   "execution_count": 4,
   "id": "22a314ed-93d8-4135-ab46-a873e476ac1e",
   "metadata": {
    "tags": []
   },
   "outputs": [
    {
     "name": "stdout",
     "output_type": "stream",
     "text": [
      "2024-01-09\n"
     ]
    }
   ],
   "source": [
    "import datetime\n",
    "\n",
    "today = datetime.date.today()\n",
    "\n",
    "print(today)"
   ]
  },
  {
   "cell_type": "code",
   "execution_count": 16,
   "id": "ed55aec5-5e5b-4f29-bdb0-1f73885758d7",
   "metadata": {
    "tags": []
   },
   "outputs": [],
   "source": [
    "import csv\n",
    "\n",
    "header = ['Title','Price','Date']\n",
    "data = [title, price, today]\n",
    "\n",
    "#with open('Amazonwebscraperdataset.csv', 'w', newline='', encoding='utf8') as f:\n",
    " #   writer = csv.writer(f)\n",
    "  #  writer.writerow(header)\n",
    "   # writer.writerow(data) \n",
    "    "
   ]
  },
  {
   "cell_type": "code",
   "execution_count": 19,
   "id": "56b11eb6-fa86-488b-99c3-9743e784deb7",
   "metadata": {
    "tags": []
   },
   "outputs": [
    {
     "name": "stdout",
     "output_type": "stream",
     "text": [
      "                                               Title  \\\n",
      "0  DUDEME How People Reacts for Bug | Programmer ...   \n",
      "1  DUDEME How People Reacts for Bug | Programmer ...   \n",
      "\n",
      "                                               Price        Date  \n",
      "0  31%\\n                    \\n\\n\\n               ...  2024-01-09  \n",
      "1  31%\\n                    \\n\\n\\n               ...  2024-01-09  \n"
     ]
    }
   ],
   "source": [
    "import pandas as pd \n",
    "\n",
    "df = pd.read_csv(r'/Users/ajayb/Downloads/Amazonwebscraperdataset.csv')\n",
    "\n",
    "print(df)"
   ]
  },
  {
   "cell_type": "code",
   "execution_count": 18,
   "id": "aacea985-ee24-4016-990d-7a3359ca6eb5",
   "metadata": {
    "tags": []
   },
   "outputs": [],
   "source": [
    "#appending data to csv\n",
    "\n",
    "with open('Amazonwebscraperdataset.csv', 'a+', newline='', encoding='utf8') as f:\n",
    "    writer = csv.writer(f)\n",
    "    writer.writerow(data) "
   ]
  },
  {
   "cell_type": "code",
   "execution_count": 20,
   "id": "c57782fa-81f6-48bf-b219-8c705c45ab1f",
   "metadata": {
    "tags": []
   },
   "outputs": [],
   "source": [
    "def check_price():\n",
    "    URL = 'https://www.amazon.in/DUDEME-People-Programmer-Developer-T-Shirt/dp/B08SKGNJVS/ref=sr_1_22_sspa?crid=2F2XYFCSRELG&keywords=computer+nerd+tshirt&qid=1704817451&sprefix=computer+ner%2Caps%2C230&sr=8-22-spons&sp_csd=d2lkZ2V0TmFtZT1zcF9tdGY&psc=1'\n",
    "\n",
    "    headers = {\"User-Agent\": \"Mozilla/5.0 (Macintosh; Intel Mac OS X 10_15_7) AppleWebKit/605.1.15 (KHTML, like Gecko) Version/17.2.1 Safari/605.1.15\",\"Accept-Encoding\":\"gzip, deflate\", \"Accept\":\"text/html,application/xhtml+xml,application/xml;q=0.9,*/*;q=0.8\", \"DNT\":\"1\",\"Connection\":\"close\", \"Upgrade-Insecure-Requests\":\"1\"}\n",
    "\n",
    "    page = requests.get(URL, headers=headers)\n",
    "\n",
    "    soup1 = BeautifulSoup(page.content, \"html.parser\")\n",
    "\n",
    "    soup2 = BeautifulSoup(soup1.prettify(), \"html.parser\")\n",
    "\n",
    "    title = soup2.find(id='productTitle').get_text()\n",
    "\n",
    "    review = soup2.find(id='acrCustomerReviewText').get_text()\n",
    "\n",
    "    rating = soup2.find(id='averageCustomerReviews').get_text()\n",
    "\n",
    "    price = soup2.find(id='corePriceDisplay_desktop_feature_div').get_text()\n",
    "    \n",
    "    price = price.strip()[1:]\n",
    "    title = title.strip()\n",
    "    \n",
    "    import datetime\n",
    "\n",
    "    today = datetime.date.today()\n",
    "    \n",
    "    import csv\n",
    "\n",
    "    header = ['Title','Price','Date']\n",
    "    data = [title, price, today]\n",
    "    \n",
    "    with open('Amazonwebscraperdataset.csv', 'a+', newline='', encoding='utf8') as f:\n",
    "        writer = csv.writer(f)\n",
    "        writer.writerow(data) \n",
    "\n",
    "#    if (price < 400):\n",
    "#        send_mail()"
   ]
  },
  {
   "cell_type": "code",
   "execution_count": null,
   "id": "64f6c393-a63c-41ec-9661-916886383307",
   "metadata": {},
   "outputs": [],
   "source": [
    "while (True):\n",
    "    check_price()\n",
    "    time.sleep(2) "
   ]
  },
  {
   "cell_type": "code",
   "execution_count": 13,
   "id": "367fba23-aa22-4303-b573-a0841d9557d9",
   "metadata": {
    "tags": []
   },
   "outputs": [
    {
     "name": "stdout",
     "output_type": "stream",
     "text": [
      "                                               Title  \\\n",
      "0  DUDEME How People Reacts for Bug | Programmer ...   \n",
      "1  DUDEME How People Reacts for Bug | Programmer ...   \n",
      "2  DUDEME How People Reacts for Bug | Programmer ...   \n",
      "3  DUDEME How People Reacts for Bug | Programmer ...   \n",
      "4  DUDEME How People Reacts for Bug | Programmer ...   \n",
      "5  DUDEME How People Reacts for Bug | Programmer ...   \n",
      "6  DUDEME How People Reacts for Bug | Programmer ...   \n",
      "7  DUDEME How People Reacts for Bug | Programmer ...   \n",
      "\n",
      "                                               Price        Date  \n",
      "0  31%\\n                    \\n\\n\\n               ...  2024-01-09  \n",
      "1  31%\\n                    \\n\\n\\n               ...  2024-01-09  \n",
      "2  549.00 with 31 percent savings\\n              ...  2024-01-09  \n",
      "3  549.00 with 31 percent savings\\n              ...  2024-01-09  \n",
      "4  549.00 with 31 percent savings\\n              ...  2024-01-09  \n",
      "5  549.00 with 31 percent savings\\n              ...  2024-01-09  \n",
      "6  549.00 with 31 percent savings\\n              ...  2024-01-09  \n",
      "7  549.00 with 31 percent savings\\n              ...  2024-01-09  \n"
     ]
    }
   ],
   "source": [
    "import pandas as pd \n",
    "\n",
    "df = pd.read_csv(r'/Users/ajayb/Downloads/Amazonwebscraperdataset.csv\n",
    "print(df)"
   ]
  },
  {
   "cell_type": "code",
   "execution_count": null,
   "id": "6763c0be",
   "metadata": {},
   "outputs": [],
   "source": [
    "#def send_mail():\n",
    "#    server = smtplib.SMTP_SSL('smtp.gmail.com',465)\n",
    "#    server.ehlo()\n",
    "#    #server.starttls()\n",
    "#    server.ehlo()\n",
    "#    server.login('abc123@gmail.com','xxxxxxxxxxxxxx')\n",
    "    \n",
    "#    subject = \"The Shirt you want is below 400! Now is your chance to buy!\"\n",
    "#    body = \"Ajay, This is the moment we have been waiting for. Now is your chance to pick up the shirt of your dreams. Don't mess it up! https://www.amazon.in/DUDEME-People-Programmer-Developer-T-Shirt/dp/B08SKGNJVS/ref=sr_1_22_sspa?crid=2F2XYFCSRELG&keywords=computer+nerd+tshirt&qid=1704817451&sprefix=computer+ner%2Caps%2C230&sr=8-22-spons&sp_csd=d2lkZ2V0TmFtZT1zcF9tdGY&psc=1\"\n",
    "   \n",
    "#    msg = f\"Subject: {subject}\\n\\n{body}\"\n",
    "    \n",
    "#    server.sendmail(\n",
    "#        'abc123@gmail.com',\n",
    "#        msg\n",
    "     \n",
    "#    )\n",
    "   "
   ]
  }
 ],
 "metadata": {
  "kernelspec": {
   "display_name": "Python 3 (ipykernel)",
   "language": "python",
   "name": "python3"
  },
  "language_info": {
   "codemirror_mode": {
    "name": "ipython",
    "version": 3
   },
   "file_extension": ".py",
   "mimetype": "text/x-python",
   "name": "python",
   "nbconvert_exporter": "python",
   "pygments_lexer": "ipython3",
   "version": "3.11.5"
  }
 },
 "nbformat": 4,
 "nbformat_minor": 5
}
